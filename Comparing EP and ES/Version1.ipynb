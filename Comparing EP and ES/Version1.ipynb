{
 "cells": [
  {
   "cell_type": "markdown",
   "metadata": {},
   "source": [
    "# Version 1: Basic Evolutionary Programming (EP)\n",
    "* Implement a basic version of EP to optimize the portfolio weights, focusing on\n",
    "maximizing the expected return."
   ]
  },
  {
   "cell_type": "code",
   "execution_count": 9,
   "metadata": {},
   "outputs": [],
   "source": [
    "# Importing necessary libraries\n",
    "\n",
    "import numpy as np\n",
    "import pandas as pd\n",
    "import matplotlib.pyplot as plt\n",
    "import time\n",
    "from statisticscalc import analyze_convergence, validate_and_plot\n"
   ]
  },
  {
   "cell_type": "code",
   "execution_count": 17,
   "metadata": {},
   "outputs": [],
   "source": [
    "# Load data and set parameter values\n",
    "\n",
    "# Load monthly returns data\n",
    "monthly_returns_df = pd.read_csv('data/monthlyreturn/monthlyreturnstocks.csv')\n",
    "monthly_returns_df = monthly_returns_df.select_dtypes(include=[np.number])  # Keep only numeric columns\n",
    "\n",
    "# Define parameters\n",
    "population_size = 100    # Number of portfolios\n",
    "num_generations = 1000   # Number of generations\n",
    "mutation_rate = 0.1      # Mutation probability\n",
    "num_months = len(monthly_returns_df)  # Total months in the dataset\n",
    "num_assets = monthly_returns_df.shape[1]  # Number of stocks/assets\n",
    "cov_matrix = monthly_returns_df.cov().to_numpy()"
   ]
  },
  {
   "cell_type": "markdown",
   "metadata": {},
   "source": [
    "# EP functions"
   ]
  },
  {
   "cell_type": "code",
   "execution_count": 14,
   "metadata": {},
   "outputs": [],
   "source": [
    "# Initialize population with each month allocated to 100% using dirichlet\n",
    "# This applies a random allocation of weights between each month for the stocks. \n",
    "def initialize_population(size, num_months, num_assets):\n",
    "    population = np.array([np.array([np.random.dirichlet(np.ones(num_assets)) for _ in range(num_months)]) for _ in range(size)])\n",
    "    return population\n",
    "\n",
    "# Define mutation function\n",
    "def mutate(portfolio, mutation_rate):\n",
    "    \"\"\"\n",
    "    Takes in the portfolio, \n",
    "    asigns gaussian noise to the original portfolio, ensuring no negative numbers\n",
    "    and ensures every month has exaclty 1 assigned to all stocks\n",
    "    \"\"\"\n",
    "    mutated_portfolio = portfolio + np.random.normal(0, mutation_rate, size=portfolio.shape)\n",
    "    mutated_portfolio = np.abs(mutated_portfolio)\n",
    "    mutated_portfolio /= mutated_portfolio.sum(axis=1, keepdims=True)  # Normalize each month to sum to 1\n",
    "    return mutated_portfolio\n",
    "\n",
    "# Fitness function with cumulative compounding\n",
    "def calculate_fitness(portfolio):\n",
    "\n",
    "    \"\"\"\n",
    "    Calculates each months return and uses calcultes the return cumulatively for each month\n",
    "    \"\"\"\n",
    "    monthly_returns = monthly_returns_df.to_numpy()\n",
    "    cumulative_growth = 1.0  # Start with initial growth factor of 1 (100%)\n",
    "\n",
    "    for month in range(num_months):\n",
    "        month_weights = portfolio[month]\n",
    "        month_return = np.dot(month_weights, monthly_returns[month])  # Weighted return for this month\n",
    "        cumulative_growth *= (1 + month_return / 100)  # Compound the cumulative growth with this month's return\n",
    "\n",
    "    cumulative_return = (cumulative_growth - 1) * 100  # Represent as percentage\n",
    "    return cumulative_return\n",
    "\n",
    "\n",
    "# Fitness function with cumulative compounding and risk penalty\n",
    "def calculate_fitness_cov(portfolio, risk_tolerance=0.1):\n",
    "    \"\"\"\n",
    "    Calculates each month's return and compounds it.\n",
    "    Adds a penalty for risk based on the portfolio's variance using the covariance matrix.\n",
    "    \"\"\"\n",
    "    monthly_returns = monthly_returns_df.to_numpy()  # Assuming this DataFrame is pre-loaded\n",
    "    cumulative_growth = 1.0  # Start with an initial growth factor of 1 (100%)\n",
    "    portfolio_risk_total = 0  # Accumulate portfolio risk for all months\n",
    "    \n",
    "    # Calculate cumulative return and risk\n",
    "    for month in range(portfolio.shape[0]):\n",
    "        month_weights = portfolio[month]\n",
    "        \n",
    "        # Calculate monthly return\n",
    "        month_return = np.dot(month_weights, monthly_returns[month])  # Weighted return for this month\n",
    "        cumulative_growth *= (1 + month_return / 100)  # Compound growth with this month's return\n",
    "        \n",
    "        # Calculate portfolio variance (risk) using the covariance matrix\n",
    "        month_variance = np.dot(month_weights.T, np.dot(cov_matrix, month_weights))\n",
    "        month_risk = np.sqrt(month_variance)  # Risk as standard deviation\n",
    "        portfolio_risk_total += month_risk\n",
    "\n",
    "    # Final cumulative return as a percentage\n",
    "    cumulative_return = (cumulative_growth - 1) * 100  # Represent as percentage\n",
    "\n",
    "    # Adjust fitness to include risk (penalize high-risk portfolios)\n",
    "    fitness_score = cumulative_return - risk_tolerance * portfolio_risk_total\n",
    "    return fitness_score\n",
    "\n",
    "# Selection function\n",
    "def select_best(population, fitness, num_to_select):\n",
    "    sorted_indices = np.argsort(fitness)[::-1] # Uses sort algorithm to sort the best population to the top\n",
    "    return population[sorted_indices[:num_to_select]] "
   ]
  },
  {
   "cell_type": "markdown",
   "metadata": {},
   "source": [
    "# EP Version 1"
   ]
  },
  {
   "cell_type": "code",
   "execution_count": 15,
   "metadata": {},
   "outputs": [],
   "source": [
    "# Main Evolutionary Programming loop\n",
    "def Basic_EP_V1(population_size, num_generations , mutation_rate, num_months, num_assets):\n",
    "    start_time = time.time()\n",
    "    population = initialize_population(population_size, num_months, num_assets)\n",
    "    generation_plot=[]\n",
    "    for generation in range(num_generations):\n",
    "        fitness_scores = np.array([calculate_fitness_cov(portfolio) for portfolio in population])\n",
    "\n",
    "        # Select top half of the population\n",
    "        population = select_best(population, fitness_scores, population_size // 2)\n",
    "\n",
    "        # Generate new population with mutations\n",
    "        new_population = [mutate(portfolio, mutation_rate) for portfolio in population]\n",
    "        population = np.array(population.tolist() + new_population)\n",
    "\n",
    "        \n",
    "\n",
    "        best_return = np.max(fitness_scores)\n",
    "        generation_plot.append(best_return)\n",
    "        \n",
    "        if generation % 100 == 0:\n",
    "            print(f\"Generation {generation}: Best Cumulative Return = {best_return:.4f}\")\n",
    "            \n",
    "\n",
    "    # Final optimized portfolio\n",
    "    best_portfolio = population[np.argmax(fitness_scores)]\n",
    "    end_time = time.time()- start_time\n",
    "    return best_portfolio, generation_plot, best_return, end_time\n"
   ]
  },
  {
   "cell_type": "code",
   "execution_count": 18,
   "metadata": {},
   "outputs": [
    {
     "name": "stdout",
     "output_type": "stream",
     "text": [
      "Generation 0: Best Cumulative Return = 144.6044\n",
      "Generation 100: Best Cumulative Return = 169.3451\n",
      "Generation 200: Best Cumulative Return = 172.9077\n",
      "Generation 300: Best Cumulative Return = 172.9077\n",
      "Generation 400: Best Cumulative Return = 172.9077\n",
      "Generation 500: Best Cumulative Return = 172.9077\n",
      "Generation 600: Best Cumulative Return = 177.6180\n",
      "Generation 700: Best Cumulative Return = 195.5269\n",
      "Generation 800: Best Cumulative Return = 195.5269\n",
      "Generation 900: Best Cumulative Return = 195.5269\n",
      "Convergence achieved at generation: 146\n",
      "Time to convergence: 5.25 seconds\n",
      "Best Return: 195.52691037162523\n",
      "Total Time: 35.94 seconds\n",
      "All monthly allocations sum to 1.\n"
     ]
    },
    {
     "data": {
      "image/png": "[encoded data removed]",
      "text/plain": [
       "<Figure size 640x480 with 1 Axes>"
      ]
     },
     "metadata": {},
     "output_type": "display_data"
    }
   ],
   "source": [
    "\n",
    "# Run the EP optimization\n",
    "best_portfolio, generation_plot, best_return, end_time = Basic_EP_V1(population_size, num_generations , mutation_rate, num_months, num_assets)\n",
    "\n",
    "analyze_convergence(generation_plot, end_time)\n",
    "# Display final results\n",
    "print(\"Best Return:\", best_return)\n",
    "print(f\"Total Time: {end_time:.2f} seconds\")\n",
    "validate_and_plot(best_portfolio, generation_plot, num_months, title=\"Version 1\", output_file=\"results/Version_1.png\")\n"
   ]
  }
 ],
 "metadata": {
  "kernelspec": {
   "display_name": "Python 3",
   "language": "python",
   "name": "python3"
  },
  "language_info": {
   "codemirror_mode": {
    "name": "ipython",
    "version": 3
   },
   "file_extension": ".py",
   "mimetype": "text/x-python",
   "name": "python",
   "nbconvert_exporter": "python",
   "pygments_lexer": "ipython3",
   "version": "3.10.11"
  }
 },
 "nbformat": 4,
 "nbformat_minor": 2
}
