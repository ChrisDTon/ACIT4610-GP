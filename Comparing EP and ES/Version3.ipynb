{
 "cells": [
  {
   "cell_type": "markdown",
   "metadata": {},
   "source": [
    "# Version 3: Basic Evolutionary Strategies (ES)\n",
    "* Implement a basic version of ES to optimize the portfolio weights"
   ]
  },
  {
   "cell_type": "code",
   "execution_count": 12,
   "metadata": {},
   "outputs": [],
   "source": [
    "# Importing necessary libraries\n",
    "\n",
    "import numpy as np\n",
    "import pandas as pd\n",
    "import matplotlib.pyplot as plt\n",
    "import time\n",
    "from statisticscalc import analyze_convergence, validate_and_plot"
   ]
  },
  {
   "cell_type": "code",
   "execution_count": null,
   "metadata": {},
   "outputs": [],
   "source": [
    "# Load monthly returns data\n",
    "monthly_returns_df = pd.read_csv('data/monthlyreturn/monthlyreturnstocks.csv')\n",
    "monthly_returns_df = monthly_returns_df.select_dtypes(include=[np.number])\n",
    "\n",
    "# Define parameters\n",
    "population_size = 50    # μ: Number of parent portfolios\n",
    "offspring_size = 100    # λ: Number of offspring (λ > μ)\n",
    "num_generations = 1000   # Number of generations\n",
    "mutation_rate = 0.05    # Fixed mutation rate for Gaussian mutation\n",
    "num_months = len(monthly_returns_df)  # Total months in the dataset\n",
    "num_assets = monthly_returns_df.shape[1]  # Number of stocks/assets"
   ]
  },
  {
   "cell_type": "markdown",
   "metadata": {},
   "source": [
    "# Basic ES functions\n",
    "* We have added basic recombination and seleecting top individuals to generate offspring"
   ]
  },
  {
   "cell_type": "code",
   "execution_count": null,
   "metadata": {},
   "outputs": [],
   "source": [
    "# Initialize population with each month allocated to 100% using dirichlet\n",
    "# This applies a random allocation of weights between each month for the stocks. \n",
    "def initialize_population(size, num_months, num_assets):\n",
    "    population = np.array([np.array([np.random.dirichlet(np.ones(num_assets)) for _ in range(num_months)]) for _ in range(size)])\n",
    "    print(\"Initialized population shape:\", population.shape)  # Should be (size, num_months, num_assets)\n",
    "    return population\n",
    "\n",
    "# Simple recombination by averaging both parents\n",
    "def recombine(parent1, parent2):\n",
    "    \"\"\"\n",
    "    Uses recombination. Averages each parents weights\n",
    "    \"\"\"\n",
    "    return (parent1 + parent2) / 2  # Simple averaging\n",
    "    \n",
    "\n",
    "# Define mutation function\n",
    "def mutate(portfolio, mutation_rate):\n",
    "    \"\"\" \n",
    "    Mutation without adaptation\n",
    "    \"\"\"\n",
    "    mutated_portfolio = portfolio + np.random.normal(0, mutation_rate, size=portfolio.shape)\n",
    "    mutated_portfolio = np.abs(mutated_portfolio)\n",
    "    mutated_portfolio /= mutated_portfolio.sum(axis=1, keepdims=True)  # Normalize each month to sum to 1\n",
    "    return mutated_portfolio\n",
    "\n",
    "# Fitness function with cumulative compounding\n",
    "def calculate_fitness(portfolio):\n",
    "\n",
    "    \"\"\"\n",
    "    Calculates each months return and uses calcultes the return cumulatively for each month\n",
    "    \"\"\"\n",
    "\n",
    "    monthly_returns = monthly_returns_df.to_numpy()\n",
    "    cumulative_growth = 1.0  # Start with initial growth factor of 1 (100%)\n",
    "\n",
    "    for month in range(num_months):\n",
    "        month_weights = portfolio[month]\n",
    "        month_return = np.dot(month_weights, monthly_returns[month])  # Weighted return for this month\n",
    "        cumulative_growth *= (1 + month_return / 100)  # Compound the cumulative growth with this month's return\n",
    "\n",
    "    cumulative_return = (cumulative_growth - 1) * 100  # Represent as percentage\n",
    "    return cumulative_return\n",
    "\n",
    "# select top portfolios\n",
    "def select_top_individuals(combined_population, combined_fitness_scores, population_size):\n",
    "    \"\"\" \n",
    "    Sorts all via argsort to select the best portfolios\n",
    "    \"\"\"\n",
    "    sorted_indices = np.argsort(combined_fitness_scores)[::-1]\n",
    "    return combined_population[sorted_indices[:population_size]]\n"
   ]
  },
  {
   "cell_type": "markdown",
   "metadata": {},
   "source": [
    "# ES Version 3"
   ]
  },
  {
   "cell_type": "code",
   "execution_count": 17,
   "metadata": {},
   "outputs": [],
   "source": [
    "# Evolution Strategy loop using (μ + λ) selection\n",
    "def Basic_ES_V3(population_size, offspring_size, num_generations, mutation_rate, num_months, num_assets):\n",
    "    # Step 1: Initialize the parent population with random portfolios\n",
    "    start_time = time.time()\n",
    "    parents = initialize_population(population_size, num_months, num_assets)\n",
    "    generation_plot = []  # List to track the best return in each generation\n",
    "\n",
    "    # Step 2: Evolution loop\n",
    "    for generation in range(num_generations):\n",
    "        # Calculate fitness for each parent portfolio\n",
    "        parent_fitness = np.array([calculate_fitness(portfolio) for portfolio in parents])\n",
    "\n",
    "        # Step 3: Generate offspring through recombination and mutation\n",
    "        offspring = []\n",
    "        for _ in range(offspring_size):\n",
    "            # Randomly select two parents and recombine to create a child portfolio\n",
    "            parent1 = parents[np.random.randint(0, population_size)]\n",
    "            parent2 = parents[np.random.randint(0, population_size)]\n",
    "            child = recombine(parent1, parent2)  # Combine traits of both parents\n",
    "            # Apply mutation to the child portfolio to introduce variation\n",
    "            mutated_child = mutate(child, mutation_rate)\n",
    "            offspring.append(mutated_child)\n",
    "\n",
    "        offspring = np.array(offspring)  # Convert list of offspring to NumPy array\n",
    "\n",
    "        # Calculate fitness for each offspring portfolio\n",
    "        offspring_fitness = np.array([calculate_fitness(ind) for ind in offspring])\n",
    "\n",
    "        # Step 4: Combine parents and offspring for selection\n",
    "        combined_population = np.vstack((parents, offspring))  # Join parents and offspring\n",
    "        combined_fitness = np.concatenate((parent_fitness, offspring_fitness))  # Combine fitness scores\n",
    "\n",
    "        # Select the top-performing portfolios to become the next generation of parents\n",
    "        parents = select_top_individuals(combined_population, combined_fitness, population_size)\n",
    "\n",
    "        # Track the best return for the current generation\n",
    "        best_return = np.max(combined_fitness)\n",
    "        generation_plot.append(best_return)\n",
    "\n",
    "        # Print progress every 100 generations\n",
    "        if generation % 100 == 0:\n",
    "            print(f\"Generation {generation}: Best Cumulative Return = {best_return:.4f}\")\n",
    "\n",
    "    # Step 5: Identify the best portfolio after all generations\n",
    "    best_portfolio = parents[np.argmax(parent_fitness)]\n",
    "    best_return = np.max(parent_fitness)\n",
    "    end_time = time.time() - start_time\n",
    "\n",
    "    return best_portfolio, generation_plot, best_return, end_time\n"
   ]
  },
  {
   "cell_type": "code",
   "execution_count": 18,
   "metadata": {},
   "outputs": [
    {
     "name": "stdout",
     "output_type": "stream",
     "text": [
      "Initialized population shape: (50, 59, 20)\n",
      "Generation 0: Best Cumulative Return = 180.6458\n",
      "Generation 100: Best Cumulative Return = 301.2857\n",
      "Generation 200: Best Cumulative Return = 301.2857\n",
      "Generation 300: Best Cumulative Return = 301.2857\n",
      "Generation 400: Best Cumulative Return = 309.1702\n",
      "Generation 500: Best Cumulative Return = 309.1702\n",
      "Generation 600: Best Cumulative Return = 314.6910\n",
      "Generation 700: Best Cumulative Return = 314.6910\n",
      "Generation 800: Best Cumulative Return = 314.6910\n",
      "Generation 900: Best Cumulative Return = 331.8012\n",
      "Convergence achieved at generation: 111\n",
      "Time to convergence: 2.06 seconds\n",
      "Best Return: 331.8012087655549\n",
      "Total Time: 18.53 seconds\n",
      "All monthly allocations sum to 1.\n"
     ]
    },
    {
     "data": {
      "image/png": "[encoded data removed]",
      "text/plain": [
       "<Figure size 640x480 with 1 Axes>"
      ]
     },
     "metadata": {},
     "output_type": "display_data"
    }
   ],
   "source": [
    "# Run the basic ES optimization with (μ + λ) selection\n",
    "best_portfolio, generation_plot, best_return, end_time = Basic_ES_V3(population_size, offspring_size, num_generations, mutation_rate, num_months, num_assets)\n",
    "\n",
    "\n",
    "analyze_convergence(generation_plot, end_time)\n",
    "# Display final results\n",
    "print(\"Best Return:\", best_return)\n",
    "print(f\"Total Time: {end_time:.2f} seconds\")\n",
    "validate_and_plot(best_portfolio, generation_plot, num_months, title=\"Version 3\", output_file=\"results/Version_3.png\")\n",
    "\n"
   ]
  }
 ],
 "metadata": {
  "kernelspec": {
   "display_name": "Python 3",
   "language": "python",
   "name": "python3"
  },
  "language_info": {
   "codemirror_mode": {
    "name": "ipython",
    "version": 3
   },
   "file_extension": ".py",
   "mimetype": "text/x-python",
   "name": "python",
   "nbconvert_exporter": "python",
   "pygments_lexer": "ipython3",
   "version": "3.10.11"
  }
 },
 "nbformat": 4,
 "nbformat_minor": 2
}
