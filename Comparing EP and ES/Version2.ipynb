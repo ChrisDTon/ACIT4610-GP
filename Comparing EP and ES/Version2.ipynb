{
 "cells": [
  {
   "cell_type": "markdown",
   "metadata": {},
   "source": [
    "# Version 2: Advanced Evolutionary Programming (EP)\n",
    "* Implement an advanced version of EP, including self-adaptive mutation\n",
    "strategies, different selection mechanisms, or elitism."
   ]
  },
  {
   "cell_type": "code",
   "execution_count": 17,
   "metadata": {},
   "outputs": [],
   "source": [
    "# Importing necessary libraries\n",
    "import numpy as np\n",
    "import pandas as pd\n",
    "import matplotlib.pyplot as plt\n",
    "import time\n",
    "from statisticscalc import analyze_convergence, validate_and_plot"
   ]
  },
  {
   "cell_type": "code",
   "execution_count": 18,
   "metadata": {},
   "outputs": [],
   "source": [
    "# Load data and set parameter values\n",
    "\n",
    "# Load monthly returns data\n",
    "monthly_returns_df = pd.read_csv('data/monthlyreturn/monthlyreturnstocks.csv')\n",
    "monthly_returns_df = monthly_returns_df.select_dtypes(include=[np.number])  # Keep only numeric columns\n",
    "\n",
    "# Define parameters\n",
    "population_size = 100    # Number of portfolios\n",
    "num_generations = 1000   # Number of generations\n",
    "mutation_rate = 0.1      # Base mutation probability\n",
    "elitism_rate = 0.1  # 10% elitism\n",
    "num_months = len(monthly_returns_df)  # Total months in the dataset\n",
    "num_assets = monthly_returns_df.shape[1]  # Number of stocks/assets\n"
   ]
  },
  {
   "cell_type": "markdown",
   "metadata": {},
   "source": [
    "# Advanced EP functions\n",
    "* Here we have adde adaptive mutation rate but still globally. It changes the mutation rate based on the overall fitness of the portfolio"
   ]
  },
  {
   "cell_type": "code",
   "execution_count": 19,
   "metadata": {},
   "outputs": [],
   "source": [
    "# Initialize population with each month allocated to 100% using dirichlet\n",
    "# This applies a random allocation of weights between each month for the stocks. \n",
    "def initialize_population(size, num_months, num_assets):\n",
    "    population = [np.array([np.random.dirichlet(np.ones(num_assets)) for _ in range(num_months)]) for _ in range(size)]\n",
    "    population = np.array(population)\n",
    "    print(\"Initialized population shape:\", population.shape)  # Should be (100, num_months, num_assets)\n",
    "    return population\n",
    "\n",
    "\n",
    "# Adaptive mutation function\n",
    "def adaptive_mutate(portfolio, base_mutation_rate, fitness, best_fitness, worst_fitness):\n",
    "    \"\"\"\n",
    "    Takes in the portfolio, \n",
    "    asigns gaussian noise to the original portfolio, ensuring no negative numbers\n",
    "    and ensures every month has exactly 1 assigned to all stocks\n",
    "    Here it also changes the mutation rate based on fitness. If the fitness is high the\n",
    "    mutation rate decreases. Applies opposite the other way\n",
    "    \"\"\"\n",
    "    fitness_normalized = (fitness - worst_fitness) / (best_fitness - worst_fitness) if best_fitness != worst_fitness else 0.5\n",
    "    mutation_rate = base_mutation_rate * (1 - fitness_normalized)\n",
    "    \n",
    "    mutated_portfolio = portfolio + np.random.normal(0, mutation_rate, size=portfolio.shape)\n",
    "    mutated_portfolio = np.abs(mutated_portfolio)\n",
    "    mutated_portfolio /= mutated_portfolio.sum(axis=1, keepdims=True)  # Normalize each month to sum to 1\n",
    "    return mutated_portfolio\n",
    "\n",
    "# Fitness function with cumulative compounding\n",
    "def calculate_fitness(portfolio):\n",
    "\n",
    "    \"\"\"\n",
    "    Calculates each months return and uses calcultes the return cumulatively for each month\n",
    "    \"\"\"\n",
    "    monthly_returns = monthly_returns_df.to_numpy()\n",
    "    cumulative_growth = 1.0  # Start with initial growth factor of 1 (100%)\n",
    "\n",
    "    for month in range(num_months):\n",
    "        month_weights = portfolio[month]\n",
    "        month_return = np.dot(month_weights, monthly_returns[month])  # Weighted return for this month\n",
    "        cumulative_growth *= (1 + month_return / 100)  # Compound the cumulative growth with this month's return\n",
    "\n",
    "    cumulative_return = (cumulative_growth - 1) * 100  # Represent as percentage\n",
    "    return cumulative_return\n",
    "\n",
    "# Selection function with elitism\n",
    "def select_best_with_elitism(population, fitness, num_to_select, elitism_rate):\n",
    "    \"\"\"\n",
    "    Sorts the population vi argsort. Then picks a precentage based on elitism as the carry over\n",
    "    to the new population\n",
    "    \"\"\"\n",
    "    sorted_indices = np.argsort(fitness)[::-1]\n",
    "    elite_count = int(len(fitness) * elitism_rate)\n",
    "    elites = population[sorted_indices[:elite_count]]  # Top-performing individuals\n",
    "    # This algorithm finds the best values and collects the 10% best to the new\n",
    "    remaining_population = population[sorted_indices[elite_count:num_to_select]]\n",
    "    return np.concatenate((elites, remaining_population))"
   ]
  },
  {
   "cell_type": "markdown",
   "metadata": {},
   "source": [
    "# Advanced EP Version 2"
   ]
  },
  {
   "cell_type": "code",
   "execution_count": 20,
   "metadata": {},
   "outputs": [],
   "source": [
    "# Main Evolutionary Programming loop\n",
    "def Advanced_EP_V2(population_size, num_generations, mutation_rate, num_months, num_assets, elitism_rate):\n",
    "    start_time = time.time()\n",
    "    population = initialize_population(population_size, num_months, num_assets)\n",
    "    generation_plot = []\n",
    "    \n",
    "    for generation in range(num_generations):\n",
    "        fitness_scores = np.array([calculate_fitness(portfolio) for portfolio in population])\n",
    "        best_fitness = np.max(fitness_scores)\n",
    "        worst_fitness = np.min(fitness_scores)\n",
    "\n",
    "        # Select top half with elitism\n",
    "        population = select_best_with_elitism(population, fitness_scores, population_size // 2, elitism_rate)\n",
    "\n",
    "        # Generate new population with adaptive mutations\n",
    "        new_population = [adaptive_mutate(portfolio, mutation_rate, fitness, best_fitness, worst_fitness) \n",
    "                          for portfolio, fitness in zip(population, fitness_scores)]\n",
    "        \n",
    "        # Combine elites and new population\n",
    "        population = np.array(population.tolist() + new_population)\n",
    "\n",
    "        best_return = np.max(fitness_scores)\n",
    "        generation_plot.append(best_return)\n",
    "        \n",
    "        if generation % 100 == 0:\n",
    "            print(f\"Generation {generation}: Best Cumulative Return = {best_return:.4f}\")\n",
    "            \n",
    "    # Final optimized portfolio\n",
    "    best_portfolio = population[np.argmax(fitness_scores)]\n",
    "    end_time = time.time()- start_time\n",
    "    return best_portfolio, generation_plot, best_return, end_time"
   ]
  },
  {
   "cell_type": "code",
   "execution_count": 21,
   "metadata": {},
   "outputs": [
    {
     "name": "stdout",
     "output_type": "stream",
     "text": [
      "Initialized population shape: (100, 59, 20)\n",
      "Generation 0: Best Cumulative Return = 181.6139\n",
      "Generation 100: Best Cumulative Return = 421.7836\n",
      "Generation 200: Best Cumulative Return = 541.6351\n",
      "Generation 300: Best Cumulative Return = 604.3432\n",
      "Generation 400: Best Cumulative Return = 624.6738\n",
      "Generation 500: Best Cumulative Return = 673.5495\n",
      "Generation 600: Best Cumulative Return = 734.2726\n",
      "Generation 700: Best Cumulative Return = 796.0821\n",
      "Generation 800: Best Cumulative Return = 830.1238\n",
      "Generation 900: Best Cumulative Return = 866.2982\n",
      "Convergence achieved at generation: 388\n",
      "Time to convergence: 6.83 seconds\n",
      "Best Return: 939.6232369452757\n",
      "Total Time: 17.59 seconds\n",
      "All monthly allocations sum to 1.\n"
     ]
    },
    {
     "data": {
      "image/png": "[encoded data removed]",
      "text/plain": [
       "<Figure size 640x480 with 1 Axes>"
      ]
     },
     "metadata": {},
     "output_type": "display_data"
    }
   ],
   "source": [
    "# Run the EP optimization\n",
    "best_portfolio, generation_plot, best_return, end_time = Advanced_EP_V2(population_size, num_generations, mutation_rate, num_months, num_assets, elitism_rate)\n",
    "\n",
    "analyze_convergence(generation_plot, end_time)\n",
    "# Display final results\n",
    "print(\"Best Return:\", best_return)\n",
    "print(f\"Total Time: {end_time:.2f} seconds\")\n",
    "validate_and_plot(best_portfolio, generation_plot, num_months, title=\"Version 2\", output_file=\"results/Version_2.png\")\n"
   ]
  }
 ],
 "metadata": {
  "kernelspec": {
   "display_name": "Python 3",
   "language": "python",
   "name": "python3"
  },
  "language_info": {
   "codemirror_mode": {
    "name": "ipython",
    "version": 3
   },
   "file_extension": ".py",
   "mimetype": "text/x-python",
   "name": "python",
   "nbconvert_exporter": "python",
   "pygments_lexer": "ipython3",
   "version": "3.10.11"
  }
 },
 "nbformat": 4,
 "nbformat_minor": 2
}
