{
 "cells": [
  {
   "cell_type": "code",
   "execution_count": 2,
   "metadata": {},
   "outputs": [],
   "source": [
    "import gymnasium as gym\n",
    "import numpy as np\n",
    "import random\n"
   ]
  },
  {
   "cell_type": "code",
   "execution_count": 3,
   "metadata": {},
   "outputs": [
    {
     "name": "stdout",
     "output_type": "stream",
     "text": [
      "+---------+\n",
      "|\u001b[34;1mR\u001b[0m: | : :\u001b[35mG\u001b[0m|\n",
      "| : | : : |\n",
      "| : : : : |\n",
      "| | : | : |\n",
      "|\u001b[43mY\u001b[0m| : |B: |\n",
      "+---------+\n",
      "\n",
      "\n"
     ]
    }
   ],
   "source": [
    "env = gym.make('Taxi-v3', render_mode='ansi')\n",
    "state, info = env.reset()\n",
    "\n",
    "env.reset()\n",
    "print(env.render())"
   ]
  },
  {
   "cell_type": "code",
   "execution_count": 4,
   "metadata": {},
   "outputs": [
    {
     "name": "stdout",
     "output_type": "stream",
     "text": [
      "Observation Space: Discrete(500)\n"
     ]
    }
   ],
   "source": [
    "# lets see how many discrete states are possible in this environment (Taxi position * passenger position * destination position)\n",
    "# should be 500\n",
    "print(\"Observation Space:\", env.observation_space)"
   ]
  },
  {
   "cell_type": "code",
   "execution_count": 5,
   "metadata": {},
   "outputs": [
    {
     "name": "stdout",
     "output_type": "stream",
     "text": [
      "Action Space: Discrete(6)\n"
     ]
    }
   ],
   "source": [
    "# lets see how many actions are possible in this environment\n",
    "print(\"Action Space:\", env.action_space)\n"
   ]
  },
  {
   "cell_type": "code",
   "execution_count": 12,
   "metadata": {},
   "outputs": [
    {
     "name": "stdout",
     "output_type": "stream",
     "text": [
      "State: 264\n",
      "Taxi Position: (2, 3)\n",
      "Passenger Location: 1\n",
      "Destination: 0\n"
     ]
    }
   ],
   "source": [
    "# each state is a number between 0 and 499.\n",
    "# using \"decode\" we can get the taxi position, passenger position, and destination position\n",
    "\n",
    "state, info = env.reset()\n",
    "taxi_row, taxi_col, passenger_location, destination = env.unwrapped.decode(state)\n",
    "\n",
    "print(f\"State: {state}\")\n",
    "print(f\"Taxi Position: ({taxi_row}, {taxi_col})\")\n",
    "print(f\"Passenger Location: {passenger_location}\")\n",
    "print(f\"Destination: {destination}\")\n",
    "\n",
    "# to clarify the passenger / taxi destination: 0 = R, 1 = G, 2 = Y, 3 = B, 4 = in taxi(only for passenger)\n",
    "\n",
    "\n",
    "# the taxi is represented by the yellow rectangle\n",
    "# the pickup locations are represented by the letters R, G, Y, B\n",
    "# the passenger locations are marked\n"
   ]
  },
  {
   "cell_type": "code",
   "execution_count": 13,
   "metadata": {},
   "outputs": [
    {
     "name": "stdout",
     "output_type": "stream",
     "text": [
      "+---------+\n",
      "|\u001b[35mR\u001b[0m: | : :\u001b[34;1mG\u001b[0m|\n",
      "| : | : : |\n",
      "| : : :\u001b[43m \u001b[0m: |\n",
      "| | : | : |\n",
      "|Y| : |B: |\n",
      "+---------+\n",
      "\n",
      "\n"
     ]
    }
   ],
   "source": [
    "print(env.render())"
   ]
  },
  {
   "cell_type": "code",
   "execution_count": 14,
   "metadata": {},
   "outputs": [],
   "source": [
    "action_meanings = {\n",
    "    0: \"Move South\",\n",
    "    1: \"Move North\",\n",
    "    2: \"Move East\",\n",
    "    3: \"Move West\",\n",
    "    4: \"Pick Up Passenger\",\n",
    "    5: \"Drop Off Passenger\"\n",
    "}"
   ]
  },
  {
   "cell_type": "code",
   "execution_count": 15,
   "metadata": {},
   "outputs": [
    {
     "name": "stdout",
     "output_type": "stream",
     "text": [
      "Selected Action: Move North\n",
      "New State: 164\n",
      "Reward: -1\n",
      "Terminated: False\n",
      "Truncated: False\n",
      "Taxi Position: (1, 3)\n",
      "Passenger Location: 1\n",
      "Destination: 0\n",
      "+---------+\n",
      "|\u001b[35mR\u001b[0m: | : :\u001b[34;1mG\u001b[0m|\n",
      "| : | :\u001b[43m \u001b[0m: |\n",
      "| : : : : |\n",
      "| | : | : |\n",
      "|Y| : |B: |\n",
      "+---------+\n",
      "  (North)\n",
      "\n"
     ]
    }
   ],
   "source": [
    "# lets see what happens when we take a random action\n",
    "\n",
    "action = env.action_space.sample() # take a random action\n",
    "print(f\"Selected Action: {action_meanings[action]}\") # print the selected action\n",
    "\n",
    "new_state, reward, terminated, truncated, info = env.step(action) # take the action\n",
    "print(f\"New State: {new_state}\") # print the new state\n",
    "print(f\"Reward: {reward}\") # print the reward\n",
    "print(f\"Terminated: {terminated}\") # print if the episode is terminated\n",
    "print(f\"Truncated: {truncated}\") # print if the episode is truncated\n",
    "\n",
    "# Decode the new state\n",
    "taxi_row, taxi_col, passenger_location, destination = env.unwrapped.decode(new_state)\n",
    "print(f\"Taxi Position: ({taxi_row}, {taxi_col})\")\n",
    "print(f\"Passenger Location: {passenger_location}\")\n",
    "print(f\"Destination: {destination}\")\n",
    "\n",
    "# Render the new state\n",
    "print(env.render())"
   ]
  },
  {
   "cell_type": "markdown",
   "metadata": {},
   "source": [
    "Reward:\n"
   ]
  },
  {
   "cell_type": "markdown",
   "metadata": {},
   "source": [
    "-1 for each step to encourage shorter routes.\n"
   ]
  },
  {
   "cell_type": "markdown",
   "metadata": {},
   "source": [
    "-10 for illegal Pickup or Drop-off."
   ]
  },
  {
   "cell_type": "markdown",
   "metadata": {},
   "source": [
    "\n",
    "+20 for a successful Drop-off."
   ]
  },
  {
   "cell_type": "markdown",
   "metadata": {},
   "source": [
    "Terminated:\n",
    "**True** when the passenger is successfully dropped off at the destination.\n",
    "\n",
    "Truncated:\n",
    "**True** if a time limit is set and exceeded (not common in the default Taxi environment)."
   ]
  },
  {
   "cell_type": "code",
   "execution_count": null,
   "metadata": {},
   "outputs": [],
   "source": [
    "# lets see what happens when we let the agent take random actions until the episode is terminated (no real strategy)\n",
    "\n",
    "# Define action meanings for readability\n",
    "action_meanings = {\n",
    "    0: \"South\",\n",
    "    1: \"North\",\n",
    "    2: \"East\",\n",
    "    3: \"West\",\n",
    "    4: \"Pickup\",\n",
    "    5: \"Drop-off\"\n",
    "}\n",
    "\n",
    "# Initialize variables\n",
    "total_reward = 0\n",
    "steps = 0\n",
    "\n",
    "# Start a new episode\n",
    "state, info = env.reset()\n",
    "terminated = False\n",
    "truncated = False\n",
    "\n",
    "print(\"Initial State:\")\n",
    "print(env.render())\n",
    "\n",
    "# Main loop\n",
    "while not terminated and not truncated:\n",
    "    # Select a random action\n",
    "    action = env.action_space.sample()\n",
    "    action_name = action_meanings[action]\n",
    "    print(f\"Step {steps + 1}: Action - {action_name}\")\n",
    "\n",
    "    # Execute the action\n",
    "    next_state, reward, terminated, truncated, info = env.step(action)\n",
    "\n",
    "    # Update total rewards and steps\n",
    "    total_reward += reward\n",
    "    steps += 1\n",
    "\n",
    "    # Render the new state\n",
    "    print(env.render())\n",
    "\n",
    "    # Update the state\n",
    "    state = next_state\n",
    "\n",
    "# Display the results\n",
    "print(f\"Episode completed in {steps} steps with total reward {total_reward}.\")\n"
   ]
  },
  {
   "cell_type": "code",
   "execution_count": 17,
   "metadata": {},
   "outputs": [],
   "source": [
    "# Training the Agent with Q-Learning\n",
    "\n",
    "# Get the size of the state and action spaces\n",
    "state_space_size = env.observation_space.n  # 500\n",
    "action_space_size = env.action_space.n      # 6\n",
    "\n",
    "# Initialize the Q-table to zeros\n",
    "q_table = np.zeros((state_space_size, action_space_size))\n",
    "\n",
    "# Hyperparameters\n",
    "alpha = 0.1      # Learning rate\n",
    "gamma = 0.99     # Discount factor\n",
    "epsilon = 1    # Exploration rate #default 0.1, but epsilon * 0.99 is useful, then epsilon should be 1\n",
    "num_episodes = 1000\n",
    "max_steps_per_episode = 100\n",
    "\n",
    "\n",
    "# Main Q-learning algorithm\n",
    "for episode in range(num_episodes):\n",
    "    state, info = env.reset()\n",
    "    terminated = False\n",
    "    truncated = False\n",
    "\n",
    "    for _ in range(max_steps_per_episode):\n",
    "        # Exploration-exploitation trade-off\n",
    "        if random.uniform(0, 1) < epsilon:\n",
    "            # Explore: choose a random action\n",
    "            action = env.action_space.sample()\n",
    "        else:\n",
    "            # Exploit: choose the action with the highest Q-value for the current state\n",
    "            action = np.argmax(q_table[state, :])\n",
    "\n",
    "        # Perform the action\n",
    "        next_state, reward, terminated, truncated, info = env.step(action)\n",
    "\n",
    "        # Update Q-table\n",
    "        old_value = q_table[state, action]\n",
    "        next_max = np.max(q_table[next_state, :])\n",
    "        q_table[state, action] = old_value + alpha * (reward + gamma * next_max - old_value)\n",
    "\n",
    "        # Update state\n",
    "        state = next_state\n",
    "\n",
    "        # If the episode is terminated, exit the loop\n",
    "        if terminated or truncated:\n",
    "            break\n",
    "\n",
    "    # Optional: Decay epsilon to reduce exploration over time\n",
    "        epsilon = epsilon * 0.99\n"
   ]
  },
  {
   "cell_type": "code",
   "execution_count": 18,
   "metadata": {},
   "outputs": [
    {
     "name": "stdout",
     "output_type": "stream",
     "text": [
      "Testing the trained agent...\n",
      "\n",
      "+---------+\n",
      "|\u001b[35mR\u001b[0m: | : :\u001b[34;1m\u001b[43mG\u001b[0m\u001b[0m|\n",
      "| : | : : |\n",
      "| : : : : |\n",
      "| | : | : |\n",
      "|Y| : |B: |\n",
      "+---------+\n",
      "  (East)\n",
      "\n",
      "+---------+\n",
      "|\u001b[35mR\u001b[0m: | : :\u001b[42mG\u001b[0m|\n",
      "| : | : : |\n",
      "| : : : : |\n",
      "| | : | : |\n",
      "|Y| : |B: |\n",
      "+---------+\n",
      "  (Pickup)\n",
      "\n",
      "+---------+\n",
      "|\u001b[35mR\u001b[0m: | :\u001b[42m_\u001b[0m:G|\n",
      "| : | : : |\n",
      "| : : : : |\n",
      "| | : | : |\n",
      "|Y| : |B: |\n",
      "+---------+\n",
      "  (West)\n",
      "\n",
      "+---------+\n",
      "|\u001b[35mR\u001b[0m: | : :G|\n",
      "| : | :\u001b[42m_\u001b[0m: |\n",
      "| : : : : |\n",
      "| | : | : |\n",
      "|Y| : |B: |\n",
      "+---------+\n",
      "  (South)\n",
      "\n",
      "+---------+\n",
      "|\u001b[35mR\u001b[0m: | : :G|\n",
      "| : |\u001b[42m_\u001b[0m: : |\n",
      "| : : : : |\n",
      "| | : | : |\n",
      "|Y| : |B: |\n",
      "+---------+\n",
      "  (West)\n",
      "\n",
      "+---------+\n",
      "|\u001b[35mR\u001b[0m: | : :G|\n",
      "| : | : : |\n",
      "| : :\u001b[42m_\u001b[0m: : |\n",
      "| | : | : |\n",
      "|Y| : |B: |\n",
      "+---------+\n",
      "  (South)\n",
      "\n",
      "+---------+\n",
      "|\u001b[35mR\u001b[0m: | : :G|\n",
      "| : | : : |\n",
      "| :\u001b[42m_\u001b[0m: : : |\n",
      "| | : | : |\n",
      "|Y| : |B: |\n",
      "+---------+\n",
      "  (West)\n",
      "\n",
      "+---------+\n",
      "|\u001b[35mR\u001b[0m: | : :G|\n",
      "| : | : : |\n",
      "|\u001b[42m_\u001b[0m: : : : |\n",
      "| | : | : |\n",
      "|Y| : |B: |\n",
      "+---------+\n",
      "  (West)\n",
      "\n",
      "+---------+\n",
      "|\u001b[35mR\u001b[0m: | : :G|\n",
      "|\u001b[42m_\u001b[0m: | : : |\n",
      "| : : : : |\n",
      "| | : | : |\n",
      "|Y| : |B: |\n",
      "+---------+\n",
      "  (North)\n",
      "\n",
      "+---------+\n",
      "|\u001b[35m\u001b[42mR\u001b[0m\u001b[0m: | : :G|\n",
      "| : | : : |\n",
      "| : : : : |\n",
      "| | : | : |\n",
      "|Y| : |B: |\n",
      "+---------+\n",
      "  (North)\n",
      "\n",
      "+---------+\n",
      "|\u001b[35m\u001b[34;1m\u001b[43mR\u001b[0m\u001b[0m\u001b[0m: | : :G|\n",
      "| : | : : |\n",
      "| : : : : |\n",
      "| | : | : |\n",
      "|Y| : |B: |\n",
      "+---------+\n",
      "  (Dropoff)\n",
      "\n",
      "Test completed in 11 steps with total reward 10.\n"
     ]
    }
   ],
   "source": [
    "# testing the agent\n",
    "\n",
    "# Set epsilon to 0 to only exploit learned values\n",
    "epsilon = 0.0\n",
    "\n",
    "state, info = env.reset()\n",
    "terminated = False\n",
    "truncated = False\n",
    "steps = 0\n",
    "total_reward = 0\n",
    "\n",
    "print(\"Testing the trained agent...\\n\")\n",
    "\n",
    "while not terminated and not truncated:\n",
    "    action = np.argmax(q_table[state, :])\n",
    "    state, reward, terminated, truncated, info = env.step(action)\n",
    "    total_reward += reward\n",
    "    steps += 1\n",
    "    print(env.render())\n",
    "\n",
    "print(f\"Test completed in {steps} steps with total reward {total_reward}.\")\n"
   ]
  },
  {
   "cell_type": "code",
   "execution_count": 25,
   "metadata": {},
   "outputs": [],
   "source": [
    "# Let's see how the agent trains with some additional logging\n",
    "\n",
    "# List to hold rewards for each episode\n",
    "rewards_all_episodes = []\n",
    "\n",
    "for episode in range(num_episodes):\n",
    "    state, info = env.reset()\n",
    "    terminated = False\n",
    "    truncated = False\n",
    "    total_rewards = 0\n",
    "\n",
    "    for _ in range(max_steps_per_episode):\n",
    "        # Exploration-exploitation trade-off\n",
    "        if random.uniform(0, 1) < epsilon:\n",
    "            action = env.action_space.sample()\n",
    "        else:\n",
    "            action = np.argmax(q_table[state, :])\n",
    "\n",
    "        # Perform the action\n",
    "        next_state, reward, terminated, truncated, info = env.step(action)\n",
    "\n",
    "        # Update Q-table\n",
    "        old_value = q_table[state, action]\n",
    "        next_max = np.max(q_table[next_state, :])\n",
    "        q_table[state, action] = old_value + alpha * (reward + gamma * next_max - old_value)\n",
    "\n",
    "        # Update total rewards\n",
    "        total_rewards += reward\n",
    "\n",
    "        # Update state\n",
    "        state = next_state\n",
    "\n",
    "        if terminated or truncated:\n",
    "            break\n",
    "\n",
    "    # Append total rewards for this episode\n",
    "    rewards_all_episodes.append(total_rewards)\n"
   ]
  },
  {
   "cell_type": "code",
   "execution_count": 26,
   "metadata": {},
   "outputs": [
    {
     "name": "stdout",
     "output_type": "stream",
     "text": [
      "Average reward per hundred episodes:\n",
      "100: 7.599999999999999\n",
      "200: 8.259999999999998\n",
      "300: 8.099999999999998\n",
      "400: 8.019999999999998\n",
      "500: 8.06\n",
      "600: 7.799999999999998\n",
      "700: 7.790000000000001\n",
      "800: 7.689999999999996\n",
      "900: 7.719999999999995\n",
      "1000: 8.010000000000002\n"
     ]
    },
    {
     "data": {
      "image/png": "[encoded data removed]",
      "text/plain": [
       "<Figure size 640x480 with 1 Axes>"
      ]
     },
     "metadata": {},
     "output_type": "display_data"
    }
   ],
   "source": [
    "import matplotlib.pyplot as plt\n",
    "\n",
    "# Calculate and plot the average reward per thousand episodes\n",
    "rewards_per_thousand_episodes = np.split(np.array(rewards_all_episodes), num_episodes/100)\n",
    "\n",
    "count = 100\n",
    "print(\"Average reward per hundred episodes:\")\n",
    "for r in rewards_per_thousand_episodes:\n",
    "    print(f\"{count}: {sum(r/100)}\")\n",
    "    count += 100\n",
    "\n",
    "# Plotting\n",
    "plt.plot(rewards_all_episodes)\n",
    "plt.xlabel('Episode')\n",
    "plt.ylabel('Total Reward')\n",
    "plt.title('Total Reward per Episode')\n",
    "plt.show()\n"
   ]
  },
  {
   "cell_type": "code",
   "execution_count": 27,
   "metadata": {},
   "outputs": [],
   "source": [
    "# We can extract the Policy from the Q-table by selecting the action with the highest Q-value for each state. This is called the Greedy Policy. This is useful for visualizing the learned policy, but only makes sense if we map the states back to the Taxi environment.\n",
    "policy = np.argmax(q_table, axis=1)\n"
   ]
  },
  {
   "cell_type": "code",
   "execution_count": null,
   "metadata": {},
   "outputs": [],
   "source": []
  }
 ],
 "metadata": {
  "kernelspec": {
   "display_name": "dave3625",
   "language": "python",
   "name": "python3"
  },
  "language_info": {
   "codemirror_mode": {
    "name": "ipython",
    "version": 3
   },
   "file_extension": ".py",
   "mimetype": "text/x-python",
   "name": "python",
   "nbconvert_exporter": "python",
   "pygments_lexer": "ipython3",
   "version": "3.8.19"
  }
 },
 "nbformat": 4,
 "nbformat_minor": 2
}
